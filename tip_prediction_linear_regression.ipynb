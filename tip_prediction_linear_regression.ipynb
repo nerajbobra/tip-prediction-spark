{
 "cells": [
  {
   "cell_type": "markdown",
   "metadata": {},
   "source": [
    "# Tip Prediction with PySpark using Linear Regression"
   ]
  },
  {
   "cell_type": "markdown",
   "metadata": {},
   "source": [
    "In this project, we'll walk through using PySpark to solve a regression problem. Specifically, we'll develop a linear model to estimate tip values based on features that are continuous, categorical, and string-based.\n",
    "\n",
    "This project will be utilizing Spark's ML library, which is designed to be used with DataFrame structures and utilizes pipelines to make things efficient and concise. "
   ]
  },
  {
   "cell_type": "markdown",
   "metadata": {},
   "source": [
    "Let's import some stuff first"
   ]
  },
  {
   "cell_type": "code",
   "execution_count": 1,
   "metadata": {
    "collapsed": false
   },
   "outputs": [],
   "source": [
    "import numpy as np\n",
    "import pandas as pd\n",
    "import seaborn as sns\n",
    "from pyspark.sql.functions import udf\n",
    "from pyspark.sql.types import DoubleType\n",
    "from pyspark.ml.feature import OneHotEncoder, StringIndexer\n",
    "from pyspark.ml.feature import VectorIndexer, VectorAssembler\n",
    "from pyspark.ml.feature import StandardScaler\n",
    "from pyspark.ml import Pipeline, PipelineModel\n",
    "from pyspark.ml.regression import LinearRegression\n",
    "from pyspark.ml.tuning import CrossValidator, ParamGridBuilder\n",
    "from pyspark.ml.evaluation import RegressionEvaluator\n",
    "from pyspark.ml.feature import VectorSlicer\n",
    "\n",
    "import matplotlib.pyplot as plt\n",
    "%matplotlib inline\n",
    "\n",
    "#the following lines allow the notebook to have multiple outputs for a single cell\n",
    "from IPython.core.interactiveshell import InteractiveShell\n",
    "InteractiveShell.ast_node_interactivity = 'all'"
   ]
  },
  {
   "cell_type": "markdown",
   "metadata": {},
   "source": [
    "Next, let's load the data. Note that I'm using PySpark with the databricks package to load csv data directly to a DataFrame. You should load the notebook with the following command:  \n",
    "PYSPARK_DRIVER_PYTHON=ipython PYSPARK_DRIVER_PYTHON_OPTS=\"notebook\" $SPARK_HOME/bin/pyspark --packages com.databricks:spark-csv_2.10:1.3.0  \n",
    "\n",
    "We'll also split the data into test/train and validation sets."
   ]
  },
  {
   "cell_type": "code",
   "execution_count": 2,
   "metadata": {
    "collapsed": false,
    "scrolled": false
   },
   "outputs": [
    {
     "name": "stdout",
     "output_type": "stream",
     "text": [
      "root\n",
      " |-- total_bill: double (nullable = true)\n",
      " |-- tip: double (nullable = true)\n",
      " |-- sex: string (nullable = true)\n",
      " |-- smoker: string (nullable = true)\n",
      " |-- day: string (nullable = true)\n",
      " |-- time: string (nullable = true)\n",
      " |-- size: integer (nullable = true)\n",
      "\n",
      "root\n",
      " |-- total_bill: double (nullable = true)\n",
      " |-- label: double (nullable = true)\n",
      " |-- sex: string (nullable = true)\n",
      " |-- smoker: string (nullable = true)\n",
      " |-- day: string (nullable = true)\n",
      " |-- time: string (nullable = true)\n",
      " |-- size: double (nullable = true)\n",
      "\n"
     ]
    },
    {
     "data": {
      "text/html": [
       "<div>\n",
       "<table border=\"1\" class=\"dataframe\">\n",
       "  <thead>\n",
       "    <tr style=\"text-align: right;\">\n",
       "      <th></th>\n",
       "      <th>total_bill</th>\n",
       "      <th>label</th>\n",
       "      <th>sex</th>\n",
       "      <th>smoker</th>\n",
       "      <th>day</th>\n",
       "      <th>time</th>\n",
       "      <th>size</th>\n",
       "    </tr>\n",
       "  </thead>\n",
       "  <tbody>\n",
       "    <tr>\n",
       "      <th>0</th>\n",
       "      <td>16.99</td>\n",
       "      <td>1.01</td>\n",
       "      <td>Female</td>\n",
       "      <td>No</td>\n",
       "      <td>Sun</td>\n",
       "      <td>Dinner</td>\n",
       "      <td>2.0</td>\n",
       "    </tr>\n",
       "    <tr>\n",
       "      <th>1</th>\n",
       "      <td>10.34</td>\n",
       "      <td>1.66</td>\n",
       "      <td>Male</td>\n",
       "      <td>No</td>\n",
       "      <td>Sun</td>\n",
       "      <td>Dinner</td>\n",
       "      <td>3.0</td>\n",
       "    </tr>\n",
       "    <tr>\n",
       "      <th>2</th>\n",
       "      <td>21.01</td>\n",
       "      <td>3.50</td>\n",
       "      <td>Male</td>\n",
       "      <td>No</td>\n",
       "      <td>Sun</td>\n",
       "      <td>Dinner</td>\n",
       "      <td>3.0</td>\n",
       "    </tr>\n",
       "    <tr>\n",
       "      <th>3</th>\n",
       "      <td>23.68</td>\n",
       "      <td>3.31</td>\n",
       "      <td>Male</td>\n",
       "      <td>No</td>\n",
       "      <td>Sun</td>\n",
       "      <td>Dinner</td>\n",
       "      <td>2.0</td>\n",
       "    </tr>\n",
       "    <tr>\n",
       "      <th>4</th>\n",
       "      <td>24.59</td>\n",
       "      <td>3.61</td>\n",
       "      <td>Female</td>\n",
       "      <td>No</td>\n",
       "      <td>Sun</td>\n",
       "      <td>Dinner</td>\n",
       "      <td>4.0</td>\n",
       "    </tr>\n",
       "  </tbody>\n",
       "</table>\n",
       "</div>"
      ],
      "text/plain": [
       "   total_bill  label     sex smoker  day    time  size\n",
       "0       16.99   1.01  Female     No  Sun  Dinner   2.0\n",
       "1       10.34   1.66    Male     No  Sun  Dinner   3.0\n",
       "2       21.01   3.50    Male     No  Sun  Dinner   3.0\n",
       "3       23.68   3.31    Male     No  Sun  Dinner   2.0\n",
       "4       24.59   3.61  Female     No  Sun  Dinner   4.0"
      ]
     },
     "execution_count": 2,
     "metadata": {},
     "output_type": "execute_result"
    }
   ],
   "source": [
    "#load data as dataframe\n",
    "data = sqlContext.read.load('tips.csv', format='com.databricks.spark.csv', header='true', inferSchema='true')\n",
    "\n",
    "#display the structure\n",
    "data.printSchema()\n",
    "\n",
    "#the column \"tip\" is the output, so rename it to \"label\"\n",
    "#this is the default name for the label column for the linear regression model\n",
    "#so i'll just stick with naming conventions here\n",
    "data = data.withColumnRenamed('tip', 'label')\n",
    "\n",
    "#note that the \"size\" column is of type integer. change this to double to avoid\n",
    "#weird results later on\n",
    "data = data.withColumn('size', data['size'].cast(DoubleType()))\n",
    "data.printSchema()\n",
    "                   \n",
    "#randomly split the data into a test/train set and validation set (80%/20%)\n",
    "splits = data.randomSplit([0.8, 0.2])\n",
    "data_train = splits[0]\n",
    "data_val = splits[1]\n",
    "\n",
    "#take a look at some data\n",
    "data.limit(5).toPandas()"
   ]
  },
  {
   "cell_type": "markdown",
   "metadata": {},
   "source": [
    "Now we have to deal with our string and categorical features. Use StringIndexer to convert string-based categorical features to a numeric form, and use OneHotEncoder to convert numeric-based categorical features to one-hot encoded values. Note that we only have to do one-hot encoding for cases when the categorical feature has more than two possible states. Otherwise just doing a stringIndexer is good enough."
   ]
  },
  {
   "cell_type": "code",
   "execution_count": 3,
   "metadata": {
    "collapsed": false,
    "scrolled": false
   },
   "outputs": [],
   "source": [
    "#convert sex --> sex_numeric. no one-hot encoding required because this can only have \n",
    "#two values (male or female)\n",
    "stringIndexerSex = StringIndexer(inputCol='sex', outputCol='sex_numeric')\n",
    "\n",
    "#convert smoker --> smoker_numeric. again, no one-hot encoding required because this can \n",
    "#only have two values (yes or no)\n",
    "stringIndexerSmoker = StringIndexer(inputCol='smoker', outputCol='smoker_numeric')\n",
    "\n",
    "#convert day --> day_numeric. also do one-hot encoding because there are mulitple possible values for day\n",
    "#ie, monday gets mapped to the integer 0, and tuesday=1, wed=2, etc.\n",
    "#then do one-hot encoding\n",
    "stringIndexerDay = StringIndexer(inputCol='day', outputCol='day_numeric')\n",
    "encoderDay = OneHotEncoder(inputCol='day_numeric', outputCol='day_vector')\n",
    "\n",
    "#convert time --> time_numeric. no one-hot encoding required because this can only have \n",
    "#two values (lunch or dinner)\n",
    "stringIndexerTime = StringIndexer(inputCol='time', outputCol='time_numeric')"
   ]
  },
  {
   "cell_type": "markdown",
   "metadata": {},
   "source": [
    "The remaining variables \"total_bill\" and \"size\" are continuous variables. Well, kind of...one could argue that \"size\" is a categorical value. But I'll be treating it as continuous, because spark gave better results with \"size\" as continuous rather than categorical. We need to normalize both features to mean=0, standard deviation=1 before training the linear regression model. Conveniently, there is a function to do that using spark. First, combine all continuous variables into a single vector using VectorAssembler. Then pass to StandardScaler to do column-wise normalization (the output will be another vector)."
   ]
  },
  {
   "cell_type": "code",
   "execution_count": 4,
   "metadata": {
    "collapsed": true
   },
   "outputs": [],
   "source": [
    "assemblerScaler = VectorAssembler(inputCols=['size', 'total_bill'], outputCol='cont_feats')\n",
    "scaler = StandardScaler(inputCol='cont_feats', outputCol='cont_feats_scaled', withStd=True, withMean=True)"
   ]
  },
  {
   "cell_type": "markdown",
   "metadata": {},
   "source": [
    "Lastly combine all the features (both one-hot encoded features and continuous, normalized features) into one big vector for input to the linear regression model. Call this vector \"features\", as the default name for the features vector for linear regression is \"features\". Again, we'll stick with the naming conventions to keep things more clear.  \n",
    "\n",
    "Note that there are eight features in total. Gender, smoking preference, and time are all categorical variables with two possible values, and so they each are represented by a single column. Day is categorical variable with 4 possible values, so one-hot encoding results in 3 possible values. There are also two continuous features, size and total bill."
   ]
  },
  {
   "cell_type": "code",
   "execution_count": 5,
   "metadata": {
    "collapsed": true
   },
   "outputs": [],
   "source": [
    "all_feats = ['sex_numeric', 'smoker_numeric', 'day_vector', 'time_numeric', 'cont_feats_scaled']\n",
    "assemblerAllFeatures = VectorAssembler(inputCols=all_feats, outputCol='features')"
   ]
  },
  {
   "cell_type": "markdown",
   "metadata": {},
   "source": [
    "Now we can conveniently put all the above steps together into a pipeline for intput into the linear regression model! For now, lets test the pipeline to see that the output is what we expected."
   ]
  },
  {
   "cell_type": "code",
   "execution_count": 6,
   "metadata": {
    "collapsed": false
   },
   "outputs": [
    {
     "data": {
      "text/html": [
       "<div>\n",
       "<table border=\"1\" class=\"dataframe\">\n",
       "  <thead>\n",
       "    <tr style=\"text-align: right;\">\n",
       "      <th></th>\n",
       "      <th>total_bill</th>\n",
       "      <th>label</th>\n",
       "      <th>sex</th>\n",
       "      <th>smoker</th>\n",
       "      <th>day</th>\n",
       "      <th>time</th>\n",
       "      <th>size</th>\n",
       "      <th>sex_numeric</th>\n",
       "      <th>smoker_numeric</th>\n",
       "      <th>day_numeric</th>\n",
       "      <th>day_vector</th>\n",
       "      <th>time_numeric</th>\n",
       "      <th>cont_feats</th>\n",
       "      <th>cont_feats_scaled</th>\n",
       "      <th>features</th>\n",
       "    </tr>\n",
       "  </thead>\n",
       "  <tbody>\n",
       "    <tr>\n",
       "      <th>0</th>\n",
       "      <td>3.07</td>\n",
       "      <td>1.0</td>\n",
       "      <td>Female</td>\n",
       "      <td>Yes</td>\n",
       "      <td>Sat</td>\n",
       "      <td>Dinner</td>\n",
       "      <td>1.0</td>\n",
       "      <td>1.0</td>\n",
       "      <td>1.0</td>\n",
       "      <td>0.0</td>\n",
       "      <td>(1.0, 0.0, 0.0)</td>\n",
       "      <td>0.0</td>\n",
       "      <td>[1.0, 3.07]</td>\n",
       "      <td>[-1.62069996297, -1.88705084441]</td>\n",
       "      <td>[1.0, 1.0, 1.0, 0.0, 0.0, 0.0, -1.62069996297,...</td>\n",
       "    </tr>\n",
       "    <tr>\n",
       "      <th>1</th>\n",
       "      <td>5.75</td>\n",
       "      <td>1.0</td>\n",
       "      <td>Female</td>\n",
       "      <td>Yes</td>\n",
       "      <td>Fri</td>\n",
       "      <td>Dinner</td>\n",
       "      <td>2.0</td>\n",
       "      <td>1.0</td>\n",
       "      <td>1.0</td>\n",
       "      <td>3.0</td>\n",
       "      <td>(0.0, 0.0, 0.0)</td>\n",
       "      <td>0.0</td>\n",
       "      <td>[2.0, 5.75]</td>\n",
       "      <td>[-0.54207712072, -1.57079345366]</td>\n",
       "      <td>(1.0, 1.0, 0.0, 0.0, 0.0, 0.0, -0.54207712072,...</td>\n",
       "    </tr>\n",
       "    <tr>\n",
       "      <th>2</th>\n",
       "      <td>7.25</td>\n",
       "      <td>1.0</td>\n",
       "      <td>Female</td>\n",
       "      <td>No</td>\n",
       "      <td>Sat</td>\n",
       "      <td>Dinner</td>\n",
       "      <td>1.0</td>\n",
       "      <td>1.0</td>\n",
       "      <td>0.0</td>\n",
       "      <td>0.0</td>\n",
       "      <td>(1.0, 0.0, 0.0)</td>\n",
       "      <td>0.0</td>\n",
       "      <td>[1.0, 7.25]</td>\n",
       "      <td>[-1.62069996297, -1.39378372003]</td>\n",
       "      <td>(1.0, 0.0, 1.0, 0.0, 0.0, 0.0, -1.62069996297,...</td>\n",
       "    </tr>\n",
       "  </tbody>\n",
       "</table>\n",
       "</div>"
      ],
      "text/plain": [
       "   total_bill  label     sex smoker  day    time  size  sex_numeric  \\\n",
       "0        3.07    1.0  Female    Yes  Sat  Dinner   1.0          1.0   \n",
       "1        5.75    1.0  Female    Yes  Fri  Dinner   2.0          1.0   \n",
       "2        7.25    1.0  Female     No  Sat  Dinner   1.0          1.0   \n",
       "\n",
       "   smoker_numeric  day_numeric       day_vector  time_numeric   cont_feats  \\\n",
       "0             1.0          0.0  (1.0, 0.0, 0.0)           0.0  [1.0, 3.07]   \n",
       "1             1.0          3.0  (0.0, 0.0, 0.0)           0.0  [2.0, 5.75]   \n",
       "2             0.0          0.0  (1.0, 0.0, 0.0)           0.0  [1.0, 7.25]   \n",
       "\n",
       "                  cont_feats_scaled  \\\n",
       "0  [-1.62069996297, -1.88705084441]   \n",
       "1  [-0.54207712072, -1.57079345366]   \n",
       "2  [-1.62069996297, -1.39378372003]   \n",
       "\n",
       "                                            features  \n",
       "0  [1.0, 1.0, 1.0, 0.0, 0.0, 0.0, -1.62069996297,...  \n",
       "1  (1.0, 1.0, 0.0, 0.0, 0.0, 0.0, -0.54207712072,...  \n",
       "2  (1.0, 0.0, 1.0, 0.0, 0.0, 0.0, -1.62069996297,...  "
      ]
     },
     "execution_count": 6,
     "metadata": {},
     "output_type": "execute_result"
    }
   ],
   "source": [
    "#define the pipeline\n",
    "pipeline = Pipeline(stages=[stringIndexerSex, stringIndexerSmoker, stringIndexerDay, encoderDay, \\\n",
    "                            stringIndexerTime, assemblerScaler, scaler, assemblerAllFeatures])\n",
    "#fit the pipeline on the training data. what it means to \"fit\" the pipeline is to basically go through each of the \n",
    "#stages of the piepline and figure out the appropriate parameters. for example, in the stringIndexerSex stage, it \n",
    "#may decide to define Female=1 and Male=0 (or vice versa)\n",
    "pipelineModel = pipeline.fit(data_train)\n",
    "\n",
    "#actually transform the data now that the pipeline is fit. note that the resultant features vector may be sparse\n",
    "output = pipelineModel.transform(data_train)\n",
    "\n",
    "#take a look at the output\n",
    "output.limit(3).toPandas()"
   ]
  },
  {
   "cell_type": "markdown",
   "metadata": {},
   "source": [
    "It's generally a good idea to take a look at the correlations between input features. This is a good first step at feature selection, in which we can remove any highly correlated (and therefore redundant) features. Correlation analysis can only be done with continuous variables, of which we only have two (total bill and size).\n",
    "\n",
    "The only tricky part of this section is extracting out the two continuous features from the features vector. To do so, define the function \"dosplit\" that will take each features vector, convert it to a list, grab the last two values of the list, and then return them as two columns. "
   ]
  },
  {
   "cell_type": "code",
   "execution_count": 7,
   "metadata": {
    "collapsed": false
   },
   "outputs": [
    {
     "name": "stdout",
     "output_type": "stream",
     "text": [
      "preview of continuous features DF:\n"
     ]
    },
    {
     "data": {
      "text/html": [
       "<div>\n",
       "<table border=\"1\" class=\"dataframe\">\n",
       "  <thead>\n",
       "    <tr style=\"text-align: right;\">\n",
       "      <th></th>\n",
       "      <th>size_scaled</th>\n",
       "      <th>total_bill_scaled</th>\n",
       "    </tr>\n",
       "  </thead>\n",
       "  <tbody>\n",
       "    <tr>\n",
       "      <th>0</th>\n",
       "      <td>-1.620700</td>\n",
       "      <td>-1.887051</td>\n",
       "    </tr>\n",
       "    <tr>\n",
       "      <th>1</th>\n",
       "      <td>-0.542077</td>\n",
       "      <td>-1.570793</td>\n",
       "    </tr>\n",
       "    <tr>\n",
       "      <th>2</th>\n",
       "      <td>-1.620700</td>\n",
       "      <td>-1.393784</td>\n",
       "    </tr>\n",
       "  </tbody>\n",
       "</table>\n",
       "</div>"
      ],
      "text/plain": [
       "   size_scaled  total_bill_scaled\n",
       "0    -1.620700          -1.887051\n",
       "1    -0.542077          -1.570793\n",
       "2    -1.620700          -1.393784"
      ]
     },
     "execution_count": 7,
     "metadata": {},
     "output_type": "execute_result"
    },
    {
     "name": "stdout",
     "output_type": "stream",
     "text": [
      "correlation matrix:\n"
     ]
    },
    {
     "data": {
      "text/html": [
       "<div>\n",
       "<table border=\"1\" class=\"dataframe\">\n",
       "  <thead>\n",
       "    <tr style=\"text-align: right;\">\n",
       "      <th></th>\n",
       "      <th>size_scaled</th>\n",
       "      <th>total_bill_scaled</th>\n",
       "    </tr>\n",
       "  </thead>\n",
       "  <tbody>\n",
       "    <tr>\n",
       "      <th>size_scaled</th>\n",
       "      <td>1.000000</td>\n",
       "      <td>0.556958</td>\n",
       "    </tr>\n",
       "    <tr>\n",
       "      <th>total_bill_scaled</th>\n",
       "      <td>0.556958</td>\n",
       "      <td>1.000000</td>\n",
       "    </tr>\n",
       "  </tbody>\n",
       "</table>\n",
       "</div>"
      ],
      "text/plain": [
       "                   size_scaled  total_bill_scaled\n",
       "size_scaled           1.000000           0.556958\n",
       "total_bill_scaled     0.556958           1.000000"
      ]
     },
     "execution_count": 7,
     "metadata": {},
     "output_type": "execute_result"
    },
    {
     "data": {
      "text/plain": [
       "<matplotlib.axes._subplots.AxesSubplot at 0x10e8e5f10>"
      ]
     },
     "execution_count": 7,
     "metadata": {},
     "output_type": "execute_result"
    },
    {
     "data": {
      "image/png": "[encoded data removed]",
      "text/plain": [
       "<matplotlib.figure.Figure at 0x10e82ddd0>"
      ]
     },
     "metadata": {},
     "output_type": "display_data"
    }
   ],
   "source": [
    "#define a function that will take the sparse vector corresponding to the \"features\" column\n",
    "#and break it up into separate columns. then grab the last two columns and return those\n",
    "def dosplit(row):\n",
    "    return row[0].toArray().tolist()[-2:]\n",
    "\n",
    "#grab the \"features\" column and split it into a dataframe of separate columns. to do this,\n",
    "#first use an RRD mapping function. then convert the returned RDD result back into a dataframe.\n",
    "#this DF-->RDD-->DF process is required since we are returning more than one column, which a UDF\n",
    "#is not able to do\n",
    "cont_feats = output.select('features')\n",
    "cont_feats = cont_feats.rdd.map(dosplit).toDF(['size_scaled', 'total_bill_scaled'])\n",
    "print 'preview of continuous features DF:'\n",
    "cont_feats.limit(3).toPandas()\n",
    "\n",
    "#compute the correlation matrix\n",
    "cont_feats = cont_feats.toPandas()\n",
    "corr = cont_feats.corr()\n",
    "print 'correlation matrix:'\n",
    "corr\n",
    "\n",
    "#plot the correlation matrix as a heatmap \n",
    "f, ax = plt.subplots(figsize=(11, 9))\n",
    "cmap = sns.diverging_palette(220, 10, as_cmap=True)\n",
    "sns.heatmap(corr, cmap=cmap, ax=ax)\n",
    "plt.show()"
   ]
  },
  {
   "cell_type": "markdown",
   "metadata": {},
   "source": [
    "As it turns out, total bill and size are somewhat correlated. But the correlation isn't incredibly high, and we don't have many continuous features to work with, so let's keep both features for now.  \n",
    "\n",
    "Now, it's time to develop a linear regression model. There are two paramters that will need to be determined via cross validation: elasticNetParam (determines the weight of the L1 vs L2 penalty) and regParam (the regularization parameter). So we'll leave those undefined for now. Furthermore, our pipeline output already matches the default input column name and features column name, so we don't have to specify those. We define standardization to be false, since we took care of that ourselves with the StandardScaler. Lastly, limit the number of iterations of SGD to 15 just to keep things from taking too long."
   ]
  },
  {
   "cell_type": "code",
   "execution_count": 8,
   "metadata": {
    "collapsed": false,
    "scrolled": false
   },
   "outputs": [],
   "source": [
    "model = LinearRegression(standardization=False, maxIter=15)\n",
    "\n",
    "#chain everything together into a pipeline\n",
    "pipeline = Pipeline(stages=[stringIndexerSex, stringIndexerSmoker, stringIndexerDay, encoderDay, \\\n",
    "                            stringIndexerTime, assemblerScaler, scaler, assemblerAllFeatures, model])\n",
    "\n",
    "#define a ParamGridBuilder to determine optimal values of elasticNetParam (range [0,1]) and regParam (typically \n",
    "#ranges between 0 and 1). we'll sweep through 0 to 1 in increments of 0.1 for both parameters\n",
    "paramGrid = ParamGridBuilder().addGrid(model.elasticNetParam, np.array(range(0,11))/10.) \\\n",
    "                              .addGrid(model.regParam, np.array(range(0,11))/10.).build()\n",
    "\n",
    "#define the RMSE to be the evaluation metric for model performance\n",
    "evaluator = RegressionEvaluator(metricName='rmse')\n",
    "\n",
    "#set up 3-fold cross validation to determine the optimal depth parameter (this can be set higher for potentially \n",
    "#better results)\n",
    "crossval = CrossValidator(estimator=pipeline, estimatorParamMaps=paramGrid, evaluator=evaluator, numFolds=3)\n",
    "\n",
    "#do the actual cross validation on the training data\n",
    "CV_model = crossval.fit(data_train)"
   ]
  },
  {
   "cell_type": "markdown",
   "metadata": {},
   "source": [
    "The CrossValidator iterated through every possible combination of elasticNetParam and regParam, developed a model for each combination of values, and evaluated each model's performance based on the RMSE. The best performing model was saved and can now be accessed from the CV_model object. Let's take a closer look at it."
   ]
  },
  {
   "cell_type": "code",
   "execution_count": 9,
   "metadata": {
    "collapsed": false
   },
   "outputs": [
    {
     "name": "stdout",
     "output_type": "stream",
     "text": [
      "features: ['sex', 'smoker', 'day_1', 'day_2', 'day_3', 'time', 'size', 'total_bill']\n",
      "feature weights: [0.0,0.103632849468,-0.0778953142103,0.0,0.0,0.0,0.20978543848,0.611321703809]\n",
      "numIterations: 10\n",
      "RMSE: 0.962601\n",
      "r2: 0.439849\n"
     ]
    }
   ],
   "source": [
    "#get the pipeine corresponding to the best model\n",
    "best_model = CV_model.bestModel\n",
    "\n",
    "#grab the last stage of the pipeline (the model)\n",
    "print ('features: %s') % (['sex', 'smoker', 'day_1', 'day_2', 'day_3', 'time', 'size', 'total_bill'])\n",
    "print ('feature weights: %s') % (best_model.stages[-1].coefficients)\n",
    "trainingSummary = best_model.stages[-1].summary\n",
    "\n",
    "#print out some of the model's properties\n",
    "print ('numIterations: %d') % (trainingSummary.totalIterations)\n",
    "print('RMSE: %f') % (trainingSummary.rootMeanSquaredError)\n",
    "print('r2: %f') % (trainingSummary.r2)"
   ]
  },
  {
   "cell_type": "markdown",
   "metadata": {},
   "source": [
    "The training converged after 10 iterations. Each of the eight features and their corresponding weights is listed above. Surprisingly, no weight was given to most of the categorical features. However, the total bill feature was highly weighted, which is an intuitive result.  \n",
    "\n",
    "To understand if these results are reasonable, I ran the same linear regression analysis in scikit learn with 5 fold cross validation. Here are the results I obtained:"
   ]
  },
  {
   "cell_type": "code",
   "execution_count": 10,
   "metadata": {
    "collapsed": false
   },
   "outputs": [
    {
     "name": "stdout",
     "output_type": "stream",
     "text": [
      "sklearn features: ['sex', 'smoker', 'day_1', 'day_2', 'day_3', 'time', 'size', 'total_bill']\n",
      "sklearn feature weights: [0.04448793, -0.29463104, 0.09389824, 0.14555511, -0.21086302, 0.31639053, 0.11035866, 0.90419216]\n",
      "sklearn RMSE: 1.063000\n",
      "sklearn r2: 0.358000\n"
     ]
    }
   ],
   "source": [
    "sklearn_coeffs = [0.04448793, -0.29463104, 0.09389824, 0.14555511, -0.21086302, 0.31639053, 0.11035866, 0.90419216]\n",
    "sklearn_feats = ['sex', 'smoker', 'day_1', 'day_2', 'day_3', 'time', 'size', 'total_bill']\n",
    "sklearn_RMSE = 1.063\n",
    "sklearn_R2 = 0.358\n",
    "\n",
    "print ('sklearn features: %s') % (sklearn_feats)\n",
    "print ('sklearn feature weights: %s') % (sklearn_coeffs)\n",
    "print('sklearn RMSE: %f') % (sklearn_RMSE)\n",
    "print('sklearn r2: %f') % (sklearn_R2)"
   ]
  },
  {
   "cell_type": "markdown",
   "metadata": {},
   "source": [
    "While scikit did put nonzero weights on all the categorical features, it's clear that total bill is still heavily weighted in comparison to the remaining features. Furthermore, scikit's RMSE is almost identical, and the r2 is actually worse. So it seems that Spark's results are actually better.  \n",
    "\n",
    "Either way, the r2 value is low in both cases and indicates that linear regression may not be the best model to fit this data. To find out what the best model might be, it would be necessary to do some data visualization (for example, plotting each input feature versus the tip). Let's just continue working with this model as it is.  \n",
    "\n",
    "Now that we have a model, let's try applying it to our validation data to make sure it's behavior is consistent. We can directly apply our cross validation model to the validation data to obtain predictions (recall that it has saved the best model pipeline)."
   ]
  },
  {
   "cell_type": "code",
   "execution_count": 11,
   "metadata": {
    "collapsed": false
   },
   "outputs": [
    {
     "data": {
      "text/html": [
       "<div>\n",
       "<table border=\"1\" class=\"dataframe\">\n",
       "  <thead>\n",
       "    <tr style=\"text-align: right;\">\n",
       "      <th></th>\n",
       "      <th>total_bill</th>\n",
       "      <th>label</th>\n",
       "      <th>sex</th>\n",
       "      <th>smoker</th>\n",
       "      <th>day</th>\n",
       "      <th>time</th>\n",
       "      <th>size</th>\n",
       "      <th>sex_numeric</th>\n",
       "      <th>smoker_numeric</th>\n",
       "      <th>day_numeric</th>\n",
       "      <th>day_vector</th>\n",
       "      <th>time_numeric</th>\n",
       "      <th>cont_feats</th>\n",
       "      <th>cont_feats_scaled</th>\n",
       "      <th>features</th>\n",
       "      <th>prediction</th>\n",
       "    </tr>\n",
       "  </thead>\n",
       "  <tbody>\n",
       "    <tr>\n",
       "      <th>0</th>\n",
       "      <td>8.35</td>\n",
       "      <td>1.50</td>\n",
       "      <td>Female</td>\n",
       "      <td>No</td>\n",
       "      <td>Thur</td>\n",
       "      <td>Lunch</td>\n",
       "      <td>2.0</td>\n",
       "      <td>1.0</td>\n",
       "      <td>0.0</td>\n",
       "      <td>2.0</td>\n",
       "      <td>(0.0, 0.0, 1.0)</td>\n",
       "      <td>1.0</td>\n",
       "      <td>[2.0, 8.35]</td>\n",
       "      <td>[-0.54207712072, -1.26397658203]</td>\n",
       "      <td>[1.0, 0.0, 0.0, 0.0, 1.0, 1.0, -0.54207712072,...</td>\n",
       "      <td>1.987965</td>\n",
       "    </tr>\n",
       "    <tr>\n",
       "      <th>1</th>\n",
       "      <td>11.59</td>\n",
       "      <td>1.50</td>\n",
       "      <td>Male</td>\n",
       "      <td>Yes</td>\n",
       "      <td>Sat</td>\n",
       "      <td>Dinner</td>\n",
       "      <td>2.0</td>\n",
       "      <td>0.0</td>\n",
       "      <td>1.0</td>\n",
       "      <td>0.0</td>\n",
       "      <td>(1.0, 0.0, 0.0)</td>\n",
       "      <td>0.0</td>\n",
       "      <td>[2.0, 11.59]</td>\n",
       "      <td>[-0.54207712072, -0.88163555739]</td>\n",
       "      <td>(0.0, 1.0, 1.0, 0.0, 0.0, 0.0, -0.54207712072,...</td>\n",
       "      <td>2.247436</td>\n",
       "    </tr>\n",
       "    <tr>\n",
       "      <th>2</th>\n",
       "      <td>11.61</td>\n",
       "      <td>3.39</td>\n",
       "      <td>Male</td>\n",
       "      <td>No</td>\n",
       "      <td>Sat</td>\n",
       "      <td>Dinner</td>\n",
       "      <td>2.0</td>\n",
       "      <td>0.0</td>\n",
       "      <td>0.0</td>\n",
       "      <td>0.0</td>\n",
       "      <td>(1.0, 0.0, 0.0)</td>\n",
       "      <td>0.0</td>\n",
       "      <td>[2.0, 11.61]</td>\n",
       "      <td>[-0.54207712072, -0.879275427608]</td>\n",
       "      <td>(0.0, 0.0, 1.0, 0.0, 0.0, 0.0, -0.54207712072,...</td>\n",
       "      <td>2.145246</td>\n",
       "    </tr>\n",
       "  </tbody>\n",
       "</table>\n",
       "</div>"
      ],
      "text/plain": [
       "   total_bill  label     sex smoker   day    time  size  sex_numeric  \\\n",
       "0        8.35   1.50  Female     No  Thur   Lunch   2.0          1.0   \n",
       "1       11.59   1.50    Male    Yes   Sat  Dinner   2.0          0.0   \n",
       "2       11.61   3.39    Male     No   Sat  Dinner   2.0          0.0   \n",
       "\n",
       "   smoker_numeric  day_numeric       day_vector  time_numeric    cont_feats  \\\n",
       "0             0.0          2.0  (0.0, 0.0, 1.0)           1.0   [2.0, 8.35]   \n",
       "1             1.0          0.0  (1.0, 0.0, 0.0)           0.0  [2.0, 11.59]   \n",
       "2             0.0          0.0  (1.0, 0.0, 0.0)           0.0  [2.0, 11.61]   \n",
       "\n",
       "                   cont_feats_scaled  \\\n",
       "0   [-0.54207712072, -1.26397658203]   \n",
       "1   [-0.54207712072, -0.88163555739]   \n",
       "2  [-0.54207712072, -0.879275427608]   \n",
       "\n",
       "                                            features  prediction  \n",
       "0  [1.0, 0.0, 0.0, 0.0, 1.0, 1.0, -0.54207712072,...    1.987965  \n",
       "1  (0.0, 1.0, 1.0, 0.0, 0.0, 0.0, -0.54207712072,...    2.247436  \n",
       "2  (0.0, 0.0, 1.0, 0.0, 0.0, 0.0, -0.54207712072,...    2.145246  "
      ]
     },
     "execution_count": 11,
     "metadata": {},
     "output_type": "execute_result"
    },
    {
     "name": "stdout",
     "output_type": "stream",
     "text": [
      "rmse for validation data: 1.235193\n"
     ]
    }
   ],
   "source": [
    "data_val_transformed = CV_model.transform(data_val)\n",
    "data_val_transformed.limit(3).toPandas()\n",
    "\n",
    "#now use the evaluator to determine the RMSE on the validation data \n",
    "print ('%s for validation data: %f') % (evaluator.getMetricName(), evaluator.evaluate(data_val_transformed))"
   ]
  },
  {
   "cell_type": "markdown",
   "metadata": {
    "collapsed": true
   },
   "source": [
    "The results are fairly consistent with the training data, so this is good news. Whenver we get new data that we want to evaluate, we can now simply apply the CV_model to it and get the results. You can save the best model here and load it at any later time."
   ]
  },
  {
   "cell_type": "code",
   "execution_count": 12,
   "metadata": {
    "collapsed": false
   },
   "outputs": [],
   "source": [
    "#note that the below save function creates a folder called \"best_model_tip\". if you call \"save\" again, you need\n",
    "#to first delete that folder.\n",
    "best_model.save('best_model_tip')\n",
    "loaded_best_model = PipelineModel.load('best_model_tip')"
   ]
  },
  {
   "cell_type": "markdown",
   "metadata": {
    "collapsed": true
   },
   "source": [
    "Note that we get the same results from applying the loaded model to the validation data:"
   ]
  },
  {
   "cell_type": "code",
   "execution_count": 13,
   "metadata": {
    "collapsed": false
   },
   "outputs": [
    {
     "data": {
      "text/html": [
       "<div>\n",
       "<table border=\"1\" class=\"dataframe\">\n",
       "  <thead>\n",
       "    <tr style=\"text-align: right;\">\n",
       "      <th></th>\n",
       "      <th>total_bill</th>\n",
       "      <th>label</th>\n",
       "      <th>sex</th>\n",
       "      <th>smoker</th>\n",
       "      <th>day</th>\n",
       "      <th>time</th>\n",
       "      <th>size</th>\n",
       "      <th>sex_numeric</th>\n",
       "      <th>smoker_numeric</th>\n",
       "      <th>day_numeric</th>\n",
       "      <th>day_vector</th>\n",
       "      <th>time_numeric</th>\n",
       "      <th>cont_feats</th>\n",
       "      <th>cont_feats_scaled</th>\n",
       "      <th>features</th>\n",
       "      <th>prediction</th>\n",
       "    </tr>\n",
       "  </thead>\n",
       "  <tbody>\n",
       "    <tr>\n",
       "      <th>0</th>\n",
       "      <td>8.35</td>\n",
       "      <td>1.50</td>\n",
       "      <td>Female</td>\n",
       "      <td>No</td>\n",
       "      <td>Thur</td>\n",
       "      <td>Lunch</td>\n",
       "      <td>2.0</td>\n",
       "      <td>1.0</td>\n",
       "      <td>0.0</td>\n",
       "      <td>2.0</td>\n",
       "      <td>(0.0, 0.0, 1.0)</td>\n",
       "      <td>1.0</td>\n",
       "      <td>[2.0, 8.35]</td>\n",
       "      <td>[-0.54207712072, -1.26397658203]</td>\n",
       "      <td>[1.0, 0.0, 0.0, 0.0, 1.0, 1.0, -0.54207712072,...</td>\n",
       "      <td>1.987965</td>\n",
       "    </tr>\n",
       "    <tr>\n",
       "      <th>1</th>\n",
       "      <td>11.59</td>\n",
       "      <td>1.50</td>\n",
       "      <td>Male</td>\n",
       "      <td>Yes</td>\n",
       "      <td>Sat</td>\n",
       "      <td>Dinner</td>\n",
       "      <td>2.0</td>\n",
       "      <td>0.0</td>\n",
       "      <td>1.0</td>\n",
       "      <td>0.0</td>\n",
       "      <td>(1.0, 0.0, 0.0)</td>\n",
       "      <td>0.0</td>\n",
       "      <td>[2.0, 11.59]</td>\n",
       "      <td>[-0.54207712072, -0.88163555739]</td>\n",
       "      <td>(0.0, 1.0, 1.0, 0.0, 0.0, 0.0, -0.54207712072,...</td>\n",
       "      <td>2.247436</td>\n",
       "    </tr>\n",
       "    <tr>\n",
       "      <th>2</th>\n",
       "      <td>11.61</td>\n",
       "      <td>3.39</td>\n",
       "      <td>Male</td>\n",
       "      <td>No</td>\n",
       "      <td>Sat</td>\n",
       "      <td>Dinner</td>\n",
       "      <td>2.0</td>\n",
       "      <td>0.0</td>\n",
       "      <td>0.0</td>\n",
       "      <td>0.0</td>\n",
       "      <td>(1.0, 0.0, 0.0)</td>\n",
       "      <td>0.0</td>\n",
       "      <td>[2.0, 11.61]</td>\n",
       "      <td>[-0.54207712072, -0.879275427608]</td>\n",
       "      <td>(0.0, 0.0, 1.0, 0.0, 0.0, 0.0, -0.54207712072,...</td>\n",
       "      <td>2.145246</td>\n",
       "    </tr>\n",
       "  </tbody>\n",
       "</table>\n",
       "</div>"
      ],
      "text/plain": [
       "   total_bill  label     sex smoker   day    time  size  sex_numeric  \\\n",
       "0        8.35   1.50  Female     No  Thur   Lunch   2.0          1.0   \n",
       "1       11.59   1.50    Male    Yes   Sat  Dinner   2.0          0.0   \n",
       "2       11.61   3.39    Male     No   Sat  Dinner   2.0          0.0   \n",
       "\n",
       "   smoker_numeric  day_numeric       day_vector  time_numeric    cont_feats  \\\n",
       "0             0.0          2.0  (0.0, 0.0, 1.0)           1.0   [2.0, 8.35]   \n",
       "1             1.0          0.0  (1.0, 0.0, 0.0)           0.0  [2.0, 11.59]   \n",
       "2             0.0          0.0  (1.0, 0.0, 0.0)           0.0  [2.0, 11.61]   \n",
       "\n",
       "                   cont_feats_scaled  \\\n",
       "0   [-0.54207712072, -1.26397658203]   \n",
       "1   [-0.54207712072, -0.88163555739]   \n",
       "2  [-0.54207712072, -0.879275427608]   \n",
       "\n",
       "                                            features  prediction  \n",
       "0  [1.0, 0.0, 0.0, 0.0, 1.0, 1.0, -0.54207712072,...    1.987965  \n",
       "1  (0.0, 1.0, 1.0, 0.0, 0.0, 0.0, -0.54207712072,...    2.247436  \n",
       "2  (0.0, 0.0, 1.0, 0.0, 0.0, 0.0, -0.54207712072,...    2.145246  "
      ]
     },
     "execution_count": 13,
     "metadata": {},
     "output_type": "execute_result"
    }
   ],
   "source": [
    "data_val_transformed_loaded = loaded_best_model.transform(data_val)\n",
    "data_val_transformed_loaded.limit(3).toPandas()"
   ]
  }
 ],
 "metadata": {
  "kernelspec": {
   "display_name": "Python 2",
   "language": "python",
   "name": "python2"
  },
  "language_info": {
   "codemirror_mode": {
    "name": "ipython",
    "version": 2
   },
   "file_extension": ".py",
   "mimetype": "text/x-python",
   "name": "python",
   "nbconvert_exporter": "python",
   "pygments_lexer": "ipython2",
   "version": "2.7.13"
  }
 },
 "nbformat": 4,
 "nbformat_minor": 2
}
